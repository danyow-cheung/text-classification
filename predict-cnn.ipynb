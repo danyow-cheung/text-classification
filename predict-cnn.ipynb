{
 "cells": [
  {
   "cell_type": "code",
   "execution_count": 43,
   "metadata": {},
   "outputs": [],
   "source": [
    "from collections import Counter\n",
    "from math import sqrt\n",
    "import gensim\n",
    "import numpy as np\n",
    "from keras.preprocessing.text import Tokenizer\n",
    "from keras.layers.embeddings import Embedding\n",
    "from keras.models import Model\n",
    "import gensim\n",
    "from gensim.models import word2vec\n",
    "import multiprocessing\n",
    "import os\n",
    "import jieba\n",
    "import keras\n"
   ]
  },
  {
   "cell_type": "code",
   "execution_count": 44,
   "metadata": {},
   "outputs": [
    {
     "data": {
      "text/plain": [
       "list"
      ]
     },
     "execution_count": 44,
     "metadata": {},
     "output_type": "execute_result"
    }
   ],
   "source": [
    "'''\n",
    "导入需要预测的文件\n",
    "'''\n",
    "file = open(\"data/test_goods.txt\",encoding='utf-8') \n",
    "sentences=[]\n",
    "for line in file:\n",
    "    temp=line.replace('\\n','')\n",
    "    sentences.append(jieba.lcut(temp))\n",
    "file.close()\n",
    "reviews = sentences\n",
    "type(reviews)"
   ]
  },
  {
   "cell_type": "code",
   "execution_count": 45,
   "metadata": {},
   "outputs": [
    {
     "name": "stdout",
     "output_type": "stream",
     "text": [
      "直接调用模型\n"
     ]
    }
   ],
   "source": [
    "if os.path.exists(\"model/word2VecModel\"):\n",
    "    print(\"直接调用模型\")\n",
    "    model = gensim.models.Word2Vec.load('model/word2VecModel')"
   ]
  },
  {
   "cell_type": "code",
   "execution_count": 46,
   "metadata": {},
   "outputs": [],
   "source": [
    "# 停用词的字典变量\n",
    "stopWordDict = {}\n",
    "\n",
    "def readStopWord(stopWordPath):\n",
    "    \"\"\"\n",
    "    读取停用词\n",
    "    \"\"\"       \n",
    "    with open(stopWordPath, \"r\",encoding='utf-8') as f:\n",
    "        stopWords = f.read()\n",
    "        stopWordList = stopWords.splitlines()\n",
    "        \n",
    "        # 将停用词用列表的形式生成，之后查找停用词时会比较快\n",
    "        stopWordDict = dict(zip(stopWordList, list(range(len(stopWordList)))))\n",
    "        return (stopWordDict)\n",
    "stopWordDict=readStopWord(stopWordPath=\"data/stopword.txt\")"
   ]
  },
  {
   "cell_type": "code",
   "execution_count": 47,
   "metadata": {},
   "outputs": [],
   "source": [
    "wordToIndex = {}"
   ]
  },
  {
   "cell_type": "code",
   "execution_count": 48,
   "metadata": {},
   "outputs": [],
   "source": [
    "#生成嵌入词向量的维度\n",
    "embeddingSize = 10"
   ]
  },
  {
   "cell_type": "code",
   "execution_count": 49,
   "metadata": {},
   "outputs": [],
   "source": [
    "\n",
    "def getWordEmbedding(words):\n",
    "    \"\"\"\n",
    "    按照我们的数据集中的单词取出预训练好的word2vec中的词向量\n",
    "    \"\"\"\n",
    "    #中文\n",
    "    model = gensim.models.Word2Vec.load('model/word2VecModel')\n",
    "\n",
    "    vocab = []\n",
    "    wordEmbedding = []\n",
    "\n",
    "    # 添加 \"pad_b\" 和 \"UNK\",  分别表示补齐的用词和未见词 注意，这些词不要在语料中出现\n",
    "    vocab.append(\"pad_b\")\n",
    "    wordEmbedding.append(np.zeros(embeddingSize))\n",
    "\n",
    "    vocab.append(\"UNK\")\n",
    "    wordEmbedding.append(np.random.randn(embeddingSize))\n",
    "\n",
    "    for word in words:\n",
    "        vector = model.wv[word]\n",
    "        vocab.append(word)\n",
    "        wordEmbedding.append(vector)\n",
    "\n",
    "    print(\"final vocab\",vocab[10:])\n",
    "    return vocab, np.array(wordEmbedding,dtype=object)"
   ]
  },
  {
   "cell_type": "code",
   "execution_count": 50,
   "metadata": {},
   "outputs": [],
   "source": [
    "#统一输入文本序列的定长，取了所有序列长度的均值。超出将被截断，不足则补0\n",
    "sequenceLength = 200\n",
    "#分词后保留大于等于最低词频的词\n",
    "miniFreq=1"
   ]
  },
  {
   "cell_type": "code",
   "execution_count": 51,
   "metadata": {},
   "outputs": [],
   "source": [
    "\"\"\"\n",
    "生成词向量和词汇-索引映射字典，可以用全数据集\n",
    "\"\"\"\n",
    "allWords = [word for review in reviews for word in review]"
   ]
  },
  {
   "cell_type": "code",
   "execution_count": 52,
   "metadata": {},
   "outputs": [],
   "source": [
    "#去掉停用词\n",
    "subWords = [word for word in allWords if word not in stopWordDict]"
   ]
  },
  {
   "cell_type": "code",
   "execution_count": 53,
   "metadata": {},
   "outputs": [],
   "source": [
    "#统计词频，排序\n",
    "wordCount = Counter(subWords)  \n",
    "sortWordCount = sorted(wordCount.items(), key=lambda x: x[0], reverse=True)"
   ]
  },
  {
   "cell_type": "code",
   "execution_count": 54,
   "metadata": {},
   "outputs": [],
   "source": [
    "#去除低频词\n",
    "words = [item[0] for item in sortWordCount if item[1] >= miniFreq ]"
   ]
  },
  {
   "cell_type": "code",
   "execution_count": 55,
   "metadata": {},
   "outputs": [
    {
     "name": "stdout",
     "output_type": "stream",
     "text": [
      "final vocab ['质量', '耳机', '美', '给出', '线头', '第一次', '穿', '真的', '电脑', '爸爸', '激活', '满意', '浏览器', '没收', '没带', '检查', '服务', '时', '无语', '收到', '担心', '手机', '快递', '很大', '开个', '建议', '差评', '差价', '尺码', '客服', '完', '好几百', '外观', '声音', '垃圾', '回家', '喜欢', '卡', '包装', '到位', '几年', '六千', '偷偷', '做工', '优惠', '京东', '买', '不错', '不行', '不好', '360', ' ']\n"
     ]
    }
   ],
   "source": [
    "#获取词列表和顺序对应的预训练权重矩阵\n",
    "vocab, wordEmbedding = getWordEmbedding(words)"
   ]
  },
  {
   "cell_type": "code",
   "execution_count": 56,
   "metadata": {},
   "outputs": [
    {
     "data": {
      "text/plain": [
       "['pad_b', 'UNK', '非常适合', '降价', '酷狗', '送给', '退', '过年', '超级', '购物']"
      ]
     },
     "execution_count": 56,
     "metadata": {},
     "output_type": "execute_result"
    }
   ],
   "source": [
    "vocab[:10]"
   ]
  },
  {
   "cell_type": "code",
   "execution_count": 57,
   "metadata": {},
   "outputs": [],
   "source": [
    "wordToIndex = dict(zip(vocab, list(range(len(vocab)))))"
   ]
  },
  {
   "cell_type": "code",
   "execution_count": 58,
   "metadata": {},
   "outputs": [],
   "source": [
    "def reviewProcess(review, sequenceLength, wordToIndex):\n",
    "        \"\"\"\n",
    "        将测试中的评论里面的词，根据词表，映射为index表示\n",
    "        每条评论 用index组成的定长数组来表示\n",
    "        \"\"\"\n",
    "        \n",
    "        reviewVec = np.zeros((sequenceLength))\n",
    "        sequenceLen = sequenceLength\n",
    "        \n",
    "        # 判断当前的序列是否小于定义的固定序列长度\n",
    "        if len(review) < sequenceLength:\n",
    "            sequenceLen = len(review)\n",
    "            \n",
    "        for i in range(sequenceLen):\n",
    "            if review[i] in wordToIndex:\n",
    "                reviewVec[i] = wordToIndex[review[i]]\n",
    "            else:\n",
    "                reviewVec[i] = wordToIndex[\"UNK\"]\n",
    "\n",
    "        return reviewVec"
   ]
  },
  {
   "cell_type": "code",
   "execution_count": 59,
   "metadata": {},
   "outputs": [],
   "source": [
    "reviews_index = []\n",
    "\n",
    "# 遍历所有的文本，将文本中的词转换成index表示\n",
    "for i in range(len(reviews)):\n",
    "    reviewVec = reviewProcess(reviews[i], sequenceLength, wordToIndex)\n",
    "    reviews_index.append(reviewVec)\n",
    " \n",
    "\n",
    "rate = 0.01\n",
    "trainIndex = int(len(reviews) * rate)"
   ]
  },
  {
   "cell_type": "code",
   "execution_count": 60,
   "metadata": {},
   "outputs": [],
   "source": [
    "'''\n",
    "测试集\n",
    "'''\n",
    "evalReviews = np.asarray(reviews_index[trainIndex:], dtype=\"int64\")"
   ]
  },
  {
   "cell_type": "code",
   "execution_count": 61,
   "metadata": {},
   "outputs": [],
   "source": [
    "model = keras.models.load_model(\"model/Text-Categorization.h5\")"
   ]
  },
  {
   "cell_type": "code",
   "execution_count": 62,
   "metadata": {},
   "outputs": [
    {
     "data": {
      "text/plain": [
       "array([[0.42000788, 0.5799921 ],\n",
       "       [0.9938128 , 0.00618714],\n",
       "       [0.18961538, 0.81038463],\n",
       "       [0.0830324 , 0.9169676 ],\n",
       "       [0.9690131 , 0.0309869 ],\n",
       "       [0.8111939 , 0.18880606]], dtype=float32)"
      ]
     },
     "execution_count": 62,
     "metadata": {},
     "output_type": "execute_result"
    }
   ],
   "source": [
    "'''\n",
    "判断样本属于那个类别的概率\n",
    "'''\n",
    "result = model.predict(evalReviews)\n",
    "result"
   ]
  },
  {
   "cell_type": "code",
   "execution_count": 63,
   "metadata": {},
   "outputs": [
    {
     "data": {
      "text/plain": [
       "array([1, 0, 1, 1, 0, 0])"
      ]
     },
     "execution_count": 63,
     "metadata": {},
     "output_type": "execute_result"
    }
   ],
   "source": [
    "'''\n",
    "即为情感分析预测步骤\n",
    "在我这里：1是坏的0是好的！\n",
    "'''\n",
    "result_labels = np.argmax(result, axis=1)  \n",
    "result_labels"
   ]
  },
  {
   "cell_type": "code",
   "execution_count": 65,
   "metadata": {},
   "outputs": [],
   "source": [
    "# 存儲結果\n",
    "label_output = []\n",
    "for i in result_labels:\n",
    "    label_output.append(i) "
   ]
  },
  {
   "cell_type": "code",
   "execution_count": 68,
   "metadata": {},
   "outputs": [
    {
     "data": {
      "text/plain": [
       "list"
      ]
     },
     "execution_count": 68,
     "metadata": {},
     "output_type": "execute_result"
    }
   ],
   "source": [
    "type(label_output)"
   ]
  },
  {
   "cell_type": "code",
   "execution_count": 69,
   "metadata": {},
   "outputs": [
    {
     "data": {
      "text/plain": [
       "0"
      ]
     },
     "execution_count": 69,
     "metadata": {},
     "output_type": "execute_result"
    }
   ],
   "source": [
    "label_output[-1]"
   ]
  }
 ],
 "metadata": {
  "interpreter": {
   "hash": "aee8b7b246df8f9039afb4144a1f6fd8d2ca17a180786b69acc140d282b71a49"
  },
  "kernelspec": {
   "display_name": "Python 3.9.2 64-bit",
   "language": "python",
   "name": "python3"
  },
  "language_info": {
   "codemirror_mode": {
    "name": "ipython",
    "version": 3
   },
   "file_extension": ".py",
   "mimetype": "text/x-python",
   "name": "python",
   "nbconvert_exporter": "python",
   "pygments_lexer": "ipython3",
   "version": "3.9.2"
  },
  "orig_nbformat": 4
 },
 "nbformat": 4,
 "nbformat_minor": 2
}
